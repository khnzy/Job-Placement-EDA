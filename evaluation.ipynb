{
 "cells": [
  {
   "cell_type": "markdown",
   "metadata": {},
   "source": [
    "# Evaluation Portfolio (Task - 3)"
   ]
  },
  {
   "cell_type": "markdown",
   "metadata": {},
   "source": [
    "## Demonstrating Data Analytics Pipeline (collection, cleaning, transformation and visualisation)\n",
    "### Submited By - Khwnasat Giri Narzary"
   ]
  },
  {
   "cell_type": "markdown",
   "metadata": {},
   "source": [
    "### Step 1 - Data Collection/Loading"
   ]
  },
  {
   "cell_type": "code",
   "execution_count": 1,
   "metadata": {},
   "outputs": [],
   "source": [
    "# Importing Necessary Libraries\n",
    "import pandas as pd\n",
    "import numpy as np\n",
    "import matplotlib.pyplot as plt\n",
    "import seaborn as sns"
   ]
  },
  {
   "cell_type": "code",
   "execution_count": 2,
   "metadata": {},
   "outputs": [
    {
     "data": {
      "text/html": [
       "<div>\n",
       "<style scoped>\n",
       "    .dataframe tbody tr th:only-of-type {\n",
       "        vertical-align: middle;\n",
       "    }\n",
       "\n",
       "    .dataframe tbody tr th {\n",
       "        vertical-align: top;\n",
       "    }\n",
       "\n",
       "    .dataframe thead th {\n",
       "        text-align: right;\n",
       "    }\n",
       "</style>\n",
       "<table border=\"1\" class=\"dataframe\">\n",
       "  <thead>\n",
       "    <tr style=\"text-align: right;\">\n",
       "      <th></th>\n",
       "      <th>id</th>\n",
       "      <th>name</th>\n",
       "      <th>gender</th>\n",
       "      <th>age</th>\n",
       "      <th>degree</th>\n",
       "      <th>stream</th>\n",
       "      <th>college_name</th>\n",
       "      <th>placement_status</th>\n",
       "      <th>salary</th>\n",
       "      <th>gpa</th>\n",
       "      <th>years_of_experience</th>\n",
       "      <th>skills</th>\n",
       "    </tr>\n",
       "  </thead>\n",
       "  <tbody>\n",
       "    <tr>\n",
       "      <th>41</th>\n",
       "      <td>42</td>\n",
       "      <td>Mia Gonzalez</td>\n",
       "      <td>Female</td>\n",
       "      <td>26.0</td>\n",
       "      <td>Bachelor's</td>\n",
       "      <td>Electronics and Communication</td>\n",
       "      <td>University of Delaware</td>\n",
       "      <td>Placed</td>\n",
       "      <td>65000</td>\n",
       "      <td>3.7</td>\n",
       "      <td>1.0</td>\n",
       "      <td>Python, SQL, Data Analysis</td>\n",
       "    </tr>\n",
       "    <tr>\n",
       "      <th>525</th>\n",
       "      <td>526</td>\n",
       "      <td>Oliver Rodriguez</td>\n",
       "      <td>Male</td>\n",
       "      <td>NaN</td>\n",
       "      <td>Bachelor's</td>\n",
       "      <td>Computer Science</td>\n",
       "      <td>University of North Carolina--Chapel Hill</td>\n",
       "      <td>Not Placed</td>\n",
       "      <td>0</td>\n",
       "      <td>3.6</td>\n",
       "      <td>1.0</td>\n",
       "      <td>Python, SQL, Data Analysis</td>\n",
       "    </tr>\n",
       "    <tr>\n",
       "      <th>393</th>\n",
       "      <td>394</td>\n",
       "      <td>Jack Garcia</td>\n",
       "      <td>Male</td>\n",
       "      <td>26.0</td>\n",
       "      <td>Bachelor's</td>\n",
       "      <td>Information Technology</td>\n",
       "      <td>University of Pennsylvania</td>\n",
       "      <td>Not Placed</td>\n",
       "      <td>0</td>\n",
       "      <td>3.7</td>\n",
       "      <td>2.0</td>\n",
       "      <td>Machine Learning, AI, Deep Learning</td>\n",
       "    </tr>\n",
       "    <tr>\n",
       "      <th>488</th>\n",
       "      <td>489</td>\n",
       "      <td>Ava Lee</td>\n",
       "      <td>Female</td>\n",
       "      <td>24.0</td>\n",
       "      <td>Bachelor's</td>\n",
       "      <td>Information Technology</td>\n",
       "      <td>University of Michigan--Ann Arbor</td>\n",
       "      <td>Placed</td>\n",
       "      <td>67000</td>\n",
       "      <td>3.9</td>\n",
       "      <td>3.0</td>\n",
       "      <td>Networking, Cyber Security, Linux</td>\n",
       "    </tr>\n",
       "    <tr>\n",
       "      <th>84</th>\n",
       "      <td>85</td>\n",
       "      <td>Jack Bailey</td>\n",
       "      <td>Male</td>\n",
       "      <td>26.0</td>\n",
       "      <td>Bachelor's</td>\n",
       "      <td>Electrical Engineering</td>\n",
       "      <td>University of Virginia</td>\n",
       "      <td>Placed</td>\n",
       "      <td>64000</td>\n",
       "      <td>3.9</td>\n",
       "      <td>2.0</td>\n",
       "      <td>Python, SQL, Data Analysis</td>\n",
       "    </tr>\n",
       "  </tbody>\n",
       "</table>\n",
       "</div>"
      ],
      "text/plain": [
       "      id              name  gender   age      degree  \\\n",
       "41    42      Mia Gonzalez  Female  26.0  Bachelor's   \n",
       "525  526  Oliver Rodriguez    Male   NaN  Bachelor's   \n",
       "393  394       Jack Garcia    Male  26.0  Bachelor's   \n",
       "488  489           Ava Lee  Female  24.0  Bachelor's   \n",
       "84    85       Jack Bailey    Male  26.0  Bachelor's   \n",
       "\n",
       "                            stream                               college_name  \\\n",
       "41   Electronics and Communication                     University of Delaware   \n",
       "525               Computer Science  University of North Carolina--Chapel Hill   \n",
       "393         Information Technology                 University of Pennsylvania   \n",
       "488         Information Technology          University of Michigan--Ann Arbor   \n",
       "84          Electrical Engineering                     University of Virginia   \n",
       "\n",
       "    placement_status  salary  gpa  years_of_experience  \\\n",
       "41            Placed   65000  3.7                  1.0   \n",
       "525       Not Placed       0  3.6                  1.0   \n",
       "393       Not Placed       0  3.7                  2.0   \n",
       "488           Placed   67000  3.9                  3.0   \n",
       "84            Placed   64000  3.9                  2.0   \n",
       "\n",
       "                                  skills  \n",
       "41            Python, SQL, Data Analysis  \n",
       "525           Python, SQL, Data Analysis  \n",
       "393  Machine Learning, AI, Deep Learning  \n",
       "488    Networking, Cyber Security, Linux  \n",
       "84            Python, SQL, Data Analysis  "
      ]
     },
     "execution_count": 2,
     "metadata": {},
     "output_type": "execute_result"
    }
   ],
   "source": [
    "# Loading data from local storage\n",
    "original = pd.read_csv(\"job_placement_data.csv\")\n",
    "original.sample(5)"
   ]
  },
  {
   "cell_type": "markdown",
   "metadata": {},
   "source": [
    "#### Checking Data for inconsistency or issues"
   ]
  },
  {
   "cell_type": "code",
   "execution_count": 3,
   "metadata": {},
   "outputs": [
    {
     "data": {
      "text/plain": [
       "(700, 12)"
      ]
     },
     "execution_count": 3,
     "metadata": {},
     "output_type": "execute_result"
    }
   ],
   "source": [
    "# Making an independent copy of our dataset\n",
    "data = original.copy()\n",
    "\n",
    "# Checking shape of data (rows,columns)\n",
    "data.shape"
   ]
  },
  {
   "cell_type": "code",
   "execution_count": 4,
   "metadata": {},
   "outputs": [
    {
     "data": {
      "text/html": [
       "<div>\n",
       "<style scoped>\n",
       "    .dataframe tbody tr th:only-of-type {\n",
       "        vertical-align: middle;\n",
       "    }\n",
       "\n",
       "    .dataframe tbody tr th {\n",
       "        vertical-align: top;\n",
       "    }\n",
       "\n",
       "    .dataframe thead th {\n",
       "        text-align: right;\n",
       "    }\n",
       "</style>\n",
       "<table border=\"1\" class=\"dataframe\">\n",
       "  <thead>\n",
       "    <tr style=\"text-align: right;\">\n",
       "      <th></th>\n",
       "      <th>index</th>\n",
       "      <th>0</th>\n",
       "    </tr>\n",
       "  </thead>\n",
       "  <tbody>\n",
       "    <tr>\n",
       "      <th>0</th>\n",
       "      <td>id</td>\n",
       "      <td>int64</td>\n",
       "    </tr>\n",
       "    <tr>\n",
       "      <th>1</th>\n",
       "      <td>name</td>\n",
       "      <td>object</td>\n",
       "    </tr>\n",
       "    <tr>\n",
       "      <th>2</th>\n",
       "      <td>gender</td>\n",
       "      <td>object</td>\n",
       "    </tr>\n",
       "    <tr>\n",
       "      <th>3</th>\n",
       "      <td>age</td>\n",
       "      <td>float64</td>\n",
       "    </tr>\n",
       "    <tr>\n",
       "      <th>4</th>\n",
       "      <td>degree</td>\n",
       "      <td>object</td>\n",
       "    </tr>\n",
       "    <tr>\n",
       "      <th>5</th>\n",
       "      <td>stream</td>\n",
       "      <td>object</td>\n",
       "    </tr>\n",
       "    <tr>\n",
       "      <th>6</th>\n",
       "      <td>college_name</td>\n",
       "      <td>object</td>\n",
       "    </tr>\n",
       "    <tr>\n",
       "      <th>7</th>\n",
       "      <td>placement_status</td>\n",
       "      <td>object</td>\n",
       "    </tr>\n",
       "    <tr>\n",
       "      <th>8</th>\n",
       "      <td>salary</td>\n",
       "      <td>int64</td>\n",
       "    </tr>\n",
       "    <tr>\n",
       "      <th>9</th>\n",
       "      <td>gpa</td>\n",
       "      <td>float64</td>\n",
       "    </tr>\n",
       "    <tr>\n",
       "      <th>10</th>\n",
       "      <td>years_of_experience</td>\n",
       "      <td>float64</td>\n",
       "    </tr>\n",
       "    <tr>\n",
       "      <th>11</th>\n",
       "      <td>skills</td>\n",
       "      <td>object</td>\n",
       "    </tr>\n",
       "  </tbody>\n",
       "</table>\n",
       "</div>"
      ],
      "text/plain": [
       "                  index        0\n",
       "0                    id    int64\n",
       "1                  name   object\n",
       "2                gender   object\n",
       "3                   age  float64\n",
       "4                degree   object\n",
       "5                stream   object\n",
       "6          college_name   object\n",
       "7      placement_status   object\n",
       "8                salary    int64\n",
       "9                   gpa  float64\n",
       "10  years_of_experience  float64\n",
       "11               skills   object"
      ]
     },
     "execution_count": 4,
     "metadata": {},
     "output_type": "execute_result"
    }
   ],
   "source": [
    "# Checking datatypes \n",
    "data.dtypes.reset_index()"
   ]
  },
  {
   "cell_type": "code",
   "execution_count": 5,
   "metadata": {},
   "outputs": [
    {
     "data": {
      "text/plain": [
       "id                      0\n",
       "name                    0\n",
       "gender                  0\n",
       "age                    70\n",
       "degree                  0\n",
       "stream                  0\n",
       "college_name            0\n",
       "placement_status        0\n",
       "salary                  0\n",
       "gpa                     0\n",
       "years_of_experience     1\n",
       "skills                  0\n",
       "dtype: int64"
      ]
     },
     "execution_count": 5,
     "metadata": {},
     "output_type": "execute_result"
    }
   ],
   "source": [
    "# Checking for Null/Missing Values\n",
    "data.isnull().sum()"
   ]
  },
  {
   "cell_type": "markdown",
   "metadata": {},
   "source": [
    "#### Found missing value in \"years_of_experience\" and \"Age\""
   ]
  },
  {
   "cell_type": "code",
   "execution_count": 6,
   "metadata": {},
   "outputs": [
    {
     "data": {
      "text/plain": [
       "Index(['id', 'name', 'gender', 'age', 'degree', 'stream', 'college_name',\n",
       "       'placement_status', 'salary', 'gpa', 'years_of_experience', 'skills'],\n",
       "      dtype='object')"
      ]
     },
     "execution_count": 6,
     "metadata": {},
     "output_type": "execute_result"
    }
   ],
   "source": [
    "# Total Columns in dataset\n",
    "data.columns\n"
   ]
  },
  {
   "cell_type": "code",
   "execution_count": 10,
   "metadata": {},
   "outputs": [
    {
     "name": "stdout",
     "output_type": "stream",
     "text": [
      "==================== S T A R T =======================\n",
      "gender\n",
      "Female    366\n",
      "Male      334\n",
      "Name: count, dtype: int64\n",
      "======================================================\n",
      "age\n",
      "24.0    187\n",
      "23.0    180\n",
      "26.0    169\n",
      "25.0     94\n",
      "Name: count, dtype: int64\n",
      "======================================================\n",
      "degree\n",
      "Bachelor's    700\n",
      "Name: count, dtype: int64\n",
      "======================================================\n",
      "stream\n",
      "Computer Science                 214\n",
      "Information Technology           152\n",
      "Electrical Engineering           112\n",
      "Mechanical Engineering           111\n",
      "Electronics and Communication    111\n",
      "Name: count, dtype: int64\n",
      "======================================================\n",
      "college_name\n",
      "University of Michigan--Ann Arbor            43\n",
      "University of California--Berkeley           43\n",
      "University of Colorado--Boulder              43\n",
      "University of Illinois--Urbana-Champaign     43\n",
      "University of Virginia                       43\n",
      "University of North Carolina--Chapel Hill    42\n",
      "University of Maryland--College Park         42\n",
      "University of California--Santa Cruz         42\n",
      "University of Pennsylvania                   40\n",
      "University of Washington                     40\n",
      "University of California--Riverside          34\n",
      "University of California--San Francisco      34\n",
      "University of Rochester                      34\n",
      "University of Delaware                       34\n",
      "University of Texas--Dallas                  34\n",
      "University of Connecticut                    33\n",
      "University of California--Los Angeles        23\n",
      "University of Texas--Austin                  18\n",
      "University of California--San Diego          10\n",
      "University of California--Irvine              1\n",
      "University of Pittsburgh                      1\n",
      "Georgetown University                         1\n",
      "Rice University                               1\n",
      "Boston College                                1\n",
      "University of Georgia                         1\n",
      "University of Notre Dame                      1\n",
      "University of Iowa                            1\n",
      "Harvard University                            1\n",
      "University of California--Davis               1\n",
      "University of Minnesota--Twin Cities          1\n",
      "University of Florida                         1\n",
      "University of Southern California             1\n",
      "Massachusetts Institute of Technology         1\n",
      "University of Wisconsin--Madison              1\n",
      "Johns Hopkins University                      1\n",
      "Duke University                               1\n",
      "Northwestern University                       1\n",
      "University of Chicago                         1\n",
      "California Institute of Technology            1\n",
      "Columbia University                           1\n",
      "Princeton University                          1\n",
      "Yale University                               1\n",
      "Stanford University                           1\n",
      "University of California--Santa Barbara       1\n",
      "Name: count, dtype: int64\n",
      "======================================================\n",
      "placement_status\n",
      "Placed        570\n",
      "Not Placed    130\n",
      "Name: count, dtype: int64\n",
      "======================================================\n",
      "years_of_experience\n",
      "3.0    285\n",
      "2.0    253\n",
      "1.0    161\n",
      "Name: count, dtype: int64\n",
      "======================================================\n"
     ]
    }
   ],
   "source": [
    "# Displaying unique values in each necessary columns\n",
    "\n",
    "columns = ['gender', 'age', 'degree', 'stream', 'college_name','placement_status','years_of_experience']\n",
    "print(\"==================== S T A R T =======================\")\n",
    "\n",
    "for i in columns:\n",
    "    print(data[i].value_counts())\n",
    "    print(\"======================================================\")"
   ]
  },
  {
   "cell_type": "code",
   "execution_count": 11,
   "metadata": {},
   "outputs": [
    {
     "data": {
      "text/plain": [
       "0"
      ]
     },
     "execution_count": 11,
     "metadata": {},
     "output_type": "execute_result"
    }
   ],
   "source": [
    "# checking for duplicate values\n",
    "data.duplicated().sum()"
   ]
  },
  {
   "cell_type": "markdown",
   "metadata": {},
   "source": [
    "### Findings/suggestions for next step: \n",
    "1. Found missing values in (Age:70, years_of_experience:1)\n",
    "2. Datatypes can be changed \n",
    "3. Columns can be renamed\n",
    "4. Unnecessary columns can be removed (id,degree)\n",
    "5. Values can be encoded (status, stream)"
   ]
  },
  {
   "cell_type": "markdown",
   "metadata": {},
   "source": [
    "### Step 2 & 3 - Data Cleaning and Transformation"
   ]
  },
  {
   "cell_type": "code",
   "execution_count": 12,
   "metadata": {},
   "outputs": [
    {
     "data": {
      "text/plain": [
       "Index(['id', 'name', 'gender', 'age', 'degree', 'stream', 'college', 'status',\n",
       "       'salary', 'gpa', 'experience', 'skills'],\n",
       "      dtype='object')"
      ]
     },
     "execution_count": 12,
     "metadata": {},
     "output_type": "execute_result"
    }
   ],
   "source": [
    "# Renaming columns for easier use \n",
    "data.rename(columns={\"years_of_experience\":\"experience\"}, inplace=True)\n",
    "data.rename(columns={\"college_name\":\"college\"}, inplace=True)\n",
    "data.rename(columns={\"placement_status\":\"status\"},inplace=True)\n",
    "data.columns"
   ]
  },
  {
   "cell_type": "code",
   "execution_count": 13,
   "metadata": {},
   "outputs": [
    {
     "name": "stdout",
     "output_type": "stream",
     "text": [
      "<class 'pandas.core.frame.DataFrame'>\n",
      "RangeIndex: 700 entries, 0 to 699\n",
      "Data columns (total 12 columns):\n",
      " #   Column      Non-Null Count  Dtype  \n",
      "---  ------      --------------  -----  \n",
      " 0   id          700 non-null    int64  \n",
      " 1   name        700 non-null    object \n",
      " 2   gender      700 non-null    object \n",
      " 3   age         630 non-null    float64\n",
      " 4   degree      700 non-null    object \n",
      " 5   stream      700 non-null    object \n",
      " 6   college     700 non-null    object \n",
      " 7   status      700 non-null    object \n",
      " 8   salary      700 non-null    int64  \n",
      " 9   gpa         700 non-null    float64\n",
      " 10  experience  699 non-null    float64\n",
      " 11  skills      700 non-null    object \n",
      "dtypes: float64(3), int64(2), object(7)\n",
      "memory usage: 65.8+ KB\n"
     ]
    }
   ],
   "source": [
    "data.info()"
   ]
  },
  {
   "cell_type": "code",
   "execution_count": 14,
   "metadata": {},
   "outputs": [],
   "source": [
    "# Converting datatypes \n",
    "# 1. All object to string\n",
    "\n",
    "for i in data:\n",
    "    if data[i].dtypes == \"object\":\n",
    "        data[i] = data[i].astype(\"string\")\n",
    "\n",
    "\n",
    "# 2. Age to int\n",
    "data[\"age\"] = data[\"age\"].astype(\"Int64\")\n"
   ]
  },
  {
   "cell_type": "code",
   "execution_count": 15,
   "metadata": {},
   "outputs": [
    {
     "name": "stdout",
     "output_type": "stream",
     "text": [
      "<class 'pandas.core.frame.DataFrame'>\n",
      "RangeIndex: 700 entries, 0 to 699\n",
      "Data columns (total 12 columns):\n",
      " #   Column      Non-Null Count  Dtype  \n",
      "---  ------      --------------  -----  \n",
      " 0   id          700 non-null    int64  \n",
      " 1   name        700 non-null    string \n",
      " 2   gender      700 non-null    string \n",
      " 3   age         630 non-null    Int64  \n",
      " 4   degree      700 non-null    string \n",
      " 5   stream      700 non-null    string \n",
      " 6   college     700 non-null    string \n",
      " 7   status      700 non-null    string \n",
      " 8   salary      700 non-null    int64  \n",
      " 9   gpa         700 non-null    float64\n",
      " 10  experience  699 non-null    float64\n",
      " 11  skills      700 non-null    string \n",
      "dtypes: Int64(1), float64(2), int64(2), string(7)\n",
      "memory usage: 66.4 KB\n"
     ]
    }
   ],
   "source": [
    "data.info()"
   ]
  },
  {
   "cell_type": "code",
   "execution_count": 16,
   "metadata": {},
   "outputs": [
    {
     "name": "stdout",
     "output_type": "stream",
     "text": [
      "<class 'pandas.core.frame.DataFrame'>\n",
      "Index: 699 entries, 0 to 699\n",
      "Data columns (total 12 columns):\n",
      " #   Column      Non-Null Count  Dtype  \n",
      "---  ------      --------------  -----  \n",
      " 0   id          699 non-null    int64  \n",
      " 1   name        699 non-null    string \n",
      " 2   gender      699 non-null    string \n",
      " 3   age         629 non-null    Int64  \n",
      " 4   degree      699 non-null    string \n",
      " 5   stream      699 non-null    string \n",
      " 6   college     699 non-null    string \n",
      " 7   status      699 non-null    string \n",
      " 8   salary      699 non-null    int64  \n",
      " 9   gpa         699 non-null    float64\n",
      " 10  experience  699 non-null    float64\n",
      " 11  skills      699 non-null    string \n",
      "dtypes: Int64(1), float64(2), int64(2), string(7)\n",
      "memory usage: 71.7 KB\n"
     ]
    }
   ],
   "source": [
    "# Option 1 - Removing Row with Null value in \"experience\" column\n",
    "data = data.dropna(subset=\"experience\")\n",
    "data.info()"
   ]
  },
  {
   "cell_type": "code",
   "execution_count": 17,
   "metadata": {},
   "outputs": [
    {
     "data": {
      "text/html": [
       "<div>\n",
       "<style scoped>\n",
       "    .dataframe tbody tr th:only-of-type {\n",
       "        vertical-align: middle;\n",
       "    }\n",
       "\n",
       "    .dataframe tbody tr th {\n",
       "        vertical-align: top;\n",
       "    }\n",
       "\n",
       "    .dataframe thead th {\n",
       "        text-align: right;\n",
       "    }\n",
       "</style>\n",
       "<table border=\"1\" class=\"dataframe\">\n",
       "  <thead>\n",
       "    <tr style=\"text-align: right;\">\n",
       "      <th></th>\n",
       "      <th>id</th>\n",
       "      <th>age</th>\n",
       "      <th>salary</th>\n",
       "      <th>gpa</th>\n",
       "      <th>experience</th>\n",
       "    </tr>\n",
       "  </thead>\n",
       "  <tbody>\n",
       "    <tr>\n",
       "      <th>count</th>\n",
       "      <td>699.000000</td>\n",
       "      <td>629.0</td>\n",
       "      <td>699.000000</td>\n",
       "      <td>699.000000</td>\n",
       "      <td>699.000000</td>\n",
       "    </tr>\n",
       "    <tr>\n",
       "      <th>mean</th>\n",
       "      <td>350.221745</td>\n",
       "      <td>24.400636</td>\n",
       "      <td>52463.519313</td>\n",
       "      <td>3.750501</td>\n",
       "      <td>2.177396</td>\n",
       "    </tr>\n",
       "    <tr>\n",
       "      <th>std</th>\n",
       "      <td>202.227533</td>\n",
       "      <td>1.162744</td>\n",
       "      <td>25176.734034</td>\n",
       "      <td>0.121283</td>\n",
       "      <td>0.779393</td>\n",
       "    </tr>\n",
       "    <tr>\n",
       "      <th>min</th>\n",
       "      <td>1.000000</td>\n",
       "      <td>23.0</td>\n",
       "      <td>0.000000</td>\n",
       "      <td>3.400000</td>\n",
       "      <td>1.000000</td>\n",
       "    </tr>\n",
       "    <tr>\n",
       "      <th>25%</th>\n",
       "      <td>175.500000</td>\n",
       "      <td>23.0</td>\n",
       "      <td>61000.000000</td>\n",
       "      <td>3.700000</td>\n",
       "      <td>2.000000</td>\n",
       "    </tr>\n",
       "    <tr>\n",
       "      <th>50%</th>\n",
       "      <td>350.000000</td>\n",
       "      <td>24.0</td>\n",
       "      <td>64000.000000</td>\n",
       "      <td>3.800000</td>\n",
       "      <td>2.000000</td>\n",
       "    </tr>\n",
       "    <tr>\n",
       "      <th>75%</th>\n",
       "      <td>524.500000</td>\n",
       "      <td>26.0</td>\n",
       "      <td>66000.000000</td>\n",
       "      <td>3.900000</td>\n",
       "      <td>3.000000</td>\n",
       "    </tr>\n",
       "    <tr>\n",
       "      <th>max</th>\n",
       "      <td>700.000000</td>\n",
       "      <td>26.0</td>\n",
       "      <td>68000.000000</td>\n",
       "      <td>3.900000</td>\n",
       "      <td>3.000000</td>\n",
       "    </tr>\n",
       "  </tbody>\n",
       "</table>\n",
       "</div>"
      ],
      "text/plain": [
       "               id        age        salary         gpa  experience\n",
       "count  699.000000      629.0    699.000000  699.000000  699.000000\n",
       "mean   350.221745  24.400636  52463.519313    3.750501    2.177396\n",
       "std    202.227533   1.162744  25176.734034    0.121283    0.779393\n",
       "min      1.000000       23.0      0.000000    3.400000    1.000000\n",
       "25%    175.500000       23.0  61000.000000    3.700000    2.000000\n",
       "50%    350.000000       24.0  64000.000000    3.800000    2.000000\n",
       "75%    524.500000       26.0  66000.000000    3.900000    3.000000\n",
       "max    700.000000       26.0  68000.000000    3.900000    3.000000"
      ]
     },
     "execution_count": 17,
     "metadata": {},
     "output_type": "execute_result"
    }
   ],
   "source": [
    "# Option 2 - Replacing with Mean, Median or Mode\n",
    "data.describe()"
   ]
  },
  {
   "cell_type": "code",
   "execution_count": 18,
   "metadata": {},
   "outputs": [
    {
     "data": {
      "text/plain": [
       "age\n",
       "24    186\n",
       "23    180\n",
       "26    169\n",
       "25     94\n",
       "Name: count, dtype: Int64"
      ]
     },
     "execution_count": 18,
     "metadata": {},
     "output_type": "execute_result"
    }
   ],
   "source": [
    "# Checking total count of each age\n",
    "data[\"age\"].value_counts()"
   ]
  },
  {
   "cell_type": "code",
   "execution_count": 19,
   "metadata": {},
   "outputs": [
    {
     "data": {
      "text/plain": [
       "age  experience\n",
       "23   2.0           84\n",
       "     3.0           68\n",
       "     1.0           28\n",
       "24   3.0           82\n",
       "     2.0           61\n",
       "     1.0           43\n",
       "25   3.0           40\n",
       "     1.0           34\n",
       "     2.0           20\n",
       "26   3.0           73\n",
       "     2.0           58\n",
       "     1.0           38\n",
       "Name: count, dtype: int64"
      ]
     },
     "execution_count": 19,
     "metadata": {},
     "output_type": "execute_result"
    }
   ],
   "source": [
    "g = data.groupby(\"age\")[\"experience\"].value_counts()\n",
    "g"
   ]
  },
  {
   "cell_type": "code",
   "execution_count": null,
   "metadata": {},
   "outputs": [],
   "source": [
    "# Filling null values based on experience (using mode)\n",
    "data[\"age\"] = data.groupby(\"experience\")[\"age\"].transform(lambda x: x.fillna(x.mode()[0] if not x.mode().empty else x.median()))"
   ]
  },
  {
   "cell_type": "code",
   "execution_count": 25,
   "metadata": {},
   "outputs": [
    {
     "data": {
      "text/plain": [
       "id            0\n",
       "name          0\n",
       "gender        0\n",
       "age           0\n",
       "degree        0\n",
       "stream        0\n",
       "college       0\n",
       "status        0\n",
       "salary        0\n",
       "gpa           0\n",
       "experience    0\n",
       "skills        0\n",
       "dtype: int64"
      ]
     },
     "execution_count": 25,
     "metadata": {},
     "output_type": "execute_result"
    }
   ],
   "source": [
    "data.isnull().sum()"
   ]
  },
  {
   "cell_type": "code",
   "execution_count": 26,
   "metadata": {},
   "outputs": [],
   "source": [
    "# Removing unnecessary columns\n",
    "data.drop(columns=\"id\", inplace=True)\n",
    "data.drop(columns=\"degree\", inplace=True)"
   ]
  },
  {
   "cell_type": "code",
   "execution_count": 27,
   "metadata": {},
   "outputs": [
    {
     "data": {
      "text/plain": [
       "Index(['name', 'gender', 'age', 'stream', 'college', 'status', 'salary', 'gpa',\n",
       "       'experience', 'skills'],\n",
       "      dtype='object')"
      ]
     },
     "execution_count": 27,
     "metadata": {},
     "output_type": "execute_result"
    }
   ],
   "source": [
    "data.columns"
   ]
  },
  {
   "cell_type": "code",
   "execution_count": 28,
   "metadata": {},
   "outputs": [
    {
     "data": {
      "text/html": [
       "<div>\n",
       "<style scoped>\n",
       "    .dataframe tbody tr th:only-of-type {\n",
       "        vertical-align: middle;\n",
       "    }\n",
       "\n",
       "    .dataframe tbody tr th {\n",
       "        vertical-align: top;\n",
       "    }\n",
       "\n",
       "    .dataframe thead th {\n",
       "        text-align: right;\n",
       "    }\n",
       "</style>\n",
       "<table border=\"1\" class=\"dataframe\">\n",
       "  <thead>\n",
       "    <tr style=\"text-align: right;\">\n",
       "      <th></th>\n",
       "      <th>name</th>\n",
       "      <th>gender</th>\n",
       "      <th>age</th>\n",
       "      <th>stream</th>\n",
       "      <th>college</th>\n",
       "      <th>status</th>\n",
       "      <th>salary</th>\n",
       "      <th>gpa</th>\n",
       "      <th>experience</th>\n",
       "      <th>skills</th>\n",
       "    </tr>\n",
       "  </thead>\n",
       "  <tbody>\n",
       "    <tr>\n",
       "      <th>77</th>\n",
       "      <td>Amelia Rivera</td>\n",
       "      <td>Female</td>\n",
       "      <td>24</td>\n",
       "      <td>Computer Science</td>\n",
       "      <td>University of Rochester</td>\n",
       "      <td>Placed</td>\n",
       "      <td>62000</td>\n",
       "      <td>3.8</td>\n",
       "      <td>3.0</td>\n",
       "      <td>Python, SQL, Data Analysis</td>\n",
       "    </tr>\n",
       "    <tr>\n",
       "      <th>646</th>\n",
       "      <td>Mia Wilson</td>\n",
       "      <td>Female</td>\n",
       "      <td>23</td>\n",
       "      <td>Electrical Engineering</td>\n",
       "      <td>University of Pennsylvania</td>\n",
       "      <td>Not Placed</td>\n",
       "      <td>0</td>\n",
       "      <td>3.7</td>\n",
       "      <td>2.0</td>\n",
       "      <td>Web Development, JavaScript, React</td>\n",
       "    </tr>\n",
       "    <tr>\n",
       "      <th>547</th>\n",
       "      <td>Aiden Davis</td>\n",
       "      <td>Male</td>\n",
       "      <td>24</td>\n",
       "      <td>Computer Science</td>\n",
       "      <td>University of California--San Francisco</td>\n",
       "      <td>Placed</td>\n",
       "      <td>66000</td>\n",
       "      <td>3.8</td>\n",
       "      <td>3.0</td>\n",
       "      <td>Java, C++, Problem Solving</td>\n",
       "    </tr>\n",
       "    <tr>\n",
       "      <th>311</th>\n",
       "      <td>Lucas Taylor</td>\n",
       "      <td>Male</td>\n",
       "      <td>23</td>\n",
       "      <td>Computer Science</td>\n",
       "      <td>University of California--Los Angeles</td>\n",
       "      <td>Placed</td>\n",
       "      <td>67000</td>\n",
       "      <td>3.9</td>\n",
       "      <td>3.0</td>\n",
       "      <td>Networking, Cyber Security, Linux</td>\n",
       "    </tr>\n",
       "    <tr>\n",
       "      <th>698</th>\n",
       "      <td>Mia Wilson</td>\n",
       "      <td>Female</td>\n",
       "      <td>23</td>\n",
       "      <td>Electrical Engineering</td>\n",
       "      <td>University of Colorado--Boulder</td>\n",
       "      <td>Placed</td>\n",
       "      <td>66000</td>\n",
       "      <td>3.7</td>\n",
       "      <td>2.0</td>\n",
       "      <td>Networking, Cyber Security, Linux</td>\n",
       "    </tr>\n",
       "  </tbody>\n",
       "</table>\n",
       "</div>"
      ],
      "text/plain": [
       "              name  gender  age                  stream  \\\n",
       "77   Amelia Rivera  Female   24        Computer Science   \n",
       "646     Mia Wilson  Female   23  Electrical Engineering   \n",
       "547    Aiden Davis    Male   24        Computer Science   \n",
       "311   Lucas Taylor    Male   23        Computer Science   \n",
       "698     Mia Wilson  Female   23  Electrical Engineering   \n",
       "\n",
       "                                     college      status  salary  gpa  \\\n",
       "77                   University of Rochester      Placed   62000  3.8   \n",
       "646               University of Pennsylvania  Not Placed       0  3.7   \n",
       "547  University of California--San Francisco      Placed   66000  3.8   \n",
       "311    University of California--Los Angeles      Placed   67000  3.9   \n",
       "698          University of Colorado--Boulder      Placed   66000  3.7   \n",
       "\n",
       "     experience                              skills  \n",
       "77          3.0          Python, SQL, Data Analysis  \n",
       "646         2.0  Web Development, JavaScript, React  \n",
       "547         3.0          Java, C++, Problem Solving  \n",
       "311         3.0   Networking, Cyber Security, Linux  \n",
       "698         2.0   Networking, Cyber Security, Linux  "
      ]
     },
     "execution_count": 28,
     "metadata": {},
     "output_type": "execute_result"
    }
   ],
   "source": [
    "data.sample(5)"
   ]
  },
  {
   "cell_type": "code",
   "execution_count": 29,
   "metadata": {},
   "outputs": [
    {
     "data": {
      "text/html": [
       "<div>\n",
       "<style scoped>\n",
       "    .dataframe tbody tr th:only-of-type {\n",
       "        vertical-align: middle;\n",
       "    }\n",
       "\n",
       "    .dataframe tbody tr th {\n",
       "        vertical-align: top;\n",
       "    }\n",
       "\n",
       "    .dataframe thead th {\n",
       "        text-align: right;\n",
       "    }\n",
       "</style>\n",
       "<table border=\"1\" class=\"dataframe\">\n",
       "  <thead>\n",
       "    <tr style=\"text-align: right;\">\n",
       "      <th></th>\n",
       "      <th>name</th>\n",
       "      <th>gender</th>\n",
       "      <th>age</th>\n",
       "      <th>stream</th>\n",
       "      <th>college</th>\n",
       "      <th>status</th>\n",
       "      <th>salary</th>\n",
       "      <th>gpa</th>\n",
       "      <th>experience</th>\n",
       "      <th>skills</th>\n",
       "    </tr>\n",
       "  </thead>\n",
       "  <tbody>\n",
       "    <tr>\n",
       "      <th>546</th>\n",
       "      <td>Emma Martinez</td>\n",
       "      <td>Female</td>\n",
       "      <td>26</td>\n",
       "      <td>Electronics and Communication</td>\n",
       "      <td>University of Delaware</td>\n",
       "      <td>1</td>\n",
       "      <td>65000</td>\n",
       "      <td>3.7</td>\n",
       "      <td>1.0</td>\n",
       "      <td>Web Development, JavaScript, React</td>\n",
       "    </tr>\n",
       "    <tr>\n",
       "      <th>167</th>\n",
       "      <td>Grace Watson</td>\n",
       "      <td>Female</td>\n",
       "      <td>25</td>\n",
       "      <td>Electronics and Communication</td>\n",
       "      <td>University of Texas--Austin</td>\n",
       "      <td>1</td>\n",
       "      <td>66000</td>\n",
       "      <td>3.8</td>\n",
       "      <td>3.0</td>\n",
       "      <td>Web Development, JavaScript, React</td>\n",
       "    </tr>\n",
       "    <tr>\n",
       "      <th>245</th>\n",
       "      <td>William Garcia</td>\n",
       "      <td>Male</td>\n",
       "      <td>23</td>\n",
       "      <td>Information Technology</td>\n",
       "      <td>University of California--Los Angeles</td>\n",
       "      <td>1</td>\n",
       "      <td>66000</td>\n",
       "      <td>3.9</td>\n",
       "      <td>3.0</td>\n",
       "      <td>Python, SQL, Data Analysis</td>\n",
       "    </tr>\n",
       "    <tr>\n",
       "      <th>568</th>\n",
       "      <td>Isabella Martinez</td>\n",
       "      <td>Female</td>\n",
       "      <td>23</td>\n",
       "      <td>Electronics and Communication</td>\n",
       "      <td>University of Washington</td>\n",
       "      <td>1</td>\n",
       "      <td>67000</td>\n",
       "      <td>3.8</td>\n",
       "      <td>3.0</td>\n",
       "      <td>Java, C++, Problem Solving</td>\n",
       "    </tr>\n",
       "    <tr>\n",
       "      <th>616</th>\n",
       "      <td>Oliver Rodriguez</td>\n",
       "      <td>Male</td>\n",
       "      <td>23</td>\n",
       "      <td>Computer Science</td>\n",
       "      <td>University of California--Berkeley</td>\n",
       "      <td>1</td>\n",
       "      <td>66000</td>\n",
       "      <td>3.9</td>\n",
       "      <td>3.0</td>\n",
       "      <td>Python, SQL, Data Analysis</td>\n",
       "    </tr>\n",
       "  </tbody>\n",
       "</table>\n",
       "</div>"
      ],
      "text/plain": [
       "                  name  gender  age                         stream  \\\n",
       "546      Emma Martinez  Female   26  Electronics and Communication   \n",
       "167       Grace Watson  Female   25  Electronics and Communication   \n",
       "245     William Garcia    Male   23         Information Technology   \n",
       "568  Isabella Martinez  Female   23  Electronics and Communication   \n",
       "616   Oliver Rodriguez    Male   23               Computer Science   \n",
       "\n",
       "                                   college  status  salary  gpa  experience  \\\n",
       "546                 University of Delaware       1   65000  3.7         1.0   \n",
       "167            University of Texas--Austin       1   66000  3.8         3.0   \n",
       "245  University of California--Los Angeles       1   66000  3.9         3.0   \n",
       "568               University of Washington       1   67000  3.8         3.0   \n",
       "616     University of California--Berkeley       1   66000  3.9         3.0   \n",
       "\n",
       "                                 skills  \n",
       "546  Web Development, JavaScript, React  \n",
       "167  Web Development, JavaScript, React  \n",
       "245          Python, SQL, Data Analysis  \n",
       "568          Java, C++, Problem Solving  \n",
       "616          Python, SQL, Data Analysis  "
      ]
     },
     "execution_count": 29,
     "metadata": {},
     "output_type": "execute_result"
    }
   ],
   "source": [
    "# Converting status \n",
    "# 1 = Placed, 0 = Unplaced\n",
    "data[\"status\"]=data[\"status\"].apply(lambda x : 1 if x==\"Placed\" else 0)\n",
    "data.sample(5)"
   ]
  },
  {
   "cell_type": "code",
   "execution_count": 30,
   "metadata": {},
   "outputs": [
    {
     "data": {
      "text/html": [
       "<div>\n",
       "<style scoped>\n",
       "    .dataframe tbody tr th:only-of-type {\n",
       "        vertical-align: middle;\n",
       "    }\n",
       "\n",
       "    .dataframe tbody tr th {\n",
       "        vertical-align: top;\n",
       "    }\n",
       "\n",
       "    .dataframe thead th {\n",
       "        text-align: right;\n",
       "    }\n",
       "</style>\n",
       "<table border=\"1\" class=\"dataframe\">\n",
       "  <thead>\n",
       "    <tr style=\"text-align: right;\">\n",
       "      <th></th>\n",
       "      <th>name</th>\n",
       "      <th>gender</th>\n",
       "      <th>age</th>\n",
       "      <th>stream</th>\n",
       "      <th>college</th>\n",
       "      <th>status</th>\n",
       "      <th>salary</th>\n",
       "      <th>gpa</th>\n",
       "      <th>experience</th>\n",
       "      <th>skills</th>\n",
       "    </tr>\n",
       "  </thead>\n",
       "  <tbody>\n",
       "    <tr>\n",
       "      <th>485</th>\n",
       "      <td>Emma Lopez</td>\n",
       "      <td>Female</td>\n",
       "      <td>24</td>\n",
       "      <td>ME</td>\n",
       "      <td>University of California--San Francisco</td>\n",
       "      <td>1</td>\n",
       "      <td>66000</td>\n",
       "      <td>3.8</td>\n",
       "      <td>3.0</td>\n",
       "      <td>Machine Learning, AI, Deep Learning</td>\n",
       "    </tr>\n",
       "    <tr>\n",
       "      <th>670</th>\n",
       "      <td>Emma Martinez</td>\n",
       "      <td>Female</td>\n",
       "      <td>26</td>\n",
       "      <td>EC</td>\n",
       "      <td>University of California--Santa Cruz</td>\n",
       "      <td>1</td>\n",
       "      <td>60000</td>\n",
       "      <td>3.7</td>\n",
       "      <td>2.0</td>\n",
       "      <td>Networking, Cyber Security, Linux</td>\n",
       "    </tr>\n",
       "    <tr>\n",
       "      <th>442</th>\n",
       "      <td>Emma Martinez</td>\n",
       "      <td>Female</td>\n",
       "      <td>26</td>\n",
       "      <td>EC</td>\n",
       "      <td>University of Washington</td>\n",
       "      <td>1</td>\n",
       "      <td>67000</td>\n",
       "      <td>3.8</td>\n",
       "      <td>3.0</td>\n",
       "      <td>Machine Learning, AI, Deep Learning</td>\n",
       "    </tr>\n",
       "    <tr>\n",
       "      <th>567</th>\n",
       "      <td>Liam Perez</td>\n",
       "      <td>Male</td>\n",
       "      <td>25</td>\n",
       "      <td>CS</td>\n",
       "      <td>University of Pennsylvania</td>\n",
       "      <td>0</td>\n",
       "      <td>0</td>\n",
       "      <td>3.7</td>\n",
       "      <td>2.0</td>\n",
       "      <td>Python, SQL, Data Analysis</td>\n",
       "    </tr>\n",
       "    <tr>\n",
       "      <th>523</th>\n",
       "      <td>Jack Garcia</td>\n",
       "      <td>Male</td>\n",
       "      <td>26</td>\n",
       "      <td>IT</td>\n",
       "      <td>University of Illinois--Urbana-Champaign</td>\n",
       "      <td>1</td>\n",
       "      <td>65000</td>\n",
       "      <td>3.8</td>\n",
       "      <td>3.0</td>\n",
       "      <td>Python, SQL, Data Analysis</td>\n",
       "    </tr>\n",
       "    <tr>\n",
       "      <th>559</th>\n",
       "      <td>Emma Martinez</td>\n",
       "      <td>Female</td>\n",
       "      <td>23</td>\n",
       "      <td>EC</td>\n",
       "      <td>University of California--Santa Cruz</td>\n",
       "      <td>1</td>\n",
       "      <td>60000</td>\n",
       "      <td>3.7</td>\n",
       "      <td>2.0</td>\n",
       "      <td>Machine Learning, AI, Deep Learning</td>\n",
       "    </tr>\n",
       "    <tr>\n",
       "      <th>621</th>\n",
       "      <td>Jack Garcia</td>\n",
       "      <td>Male</td>\n",
       "      <td>26</td>\n",
       "      <td>IT</td>\n",
       "      <td>University of Rochester</td>\n",
       "      <td>1</td>\n",
       "      <td>62000</td>\n",
       "      <td>3.8</td>\n",
       "      <td>3.0</td>\n",
       "      <td>Web Development, JavaScript, React</td>\n",
       "    </tr>\n",
       "    <tr>\n",
       "      <th>192</th>\n",
       "      <td>Olivia Smith</td>\n",
       "      <td>Female</td>\n",
       "      <td>24</td>\n",
       "      <td>EC</td>\n",
       "      <td>University of Texas--Austin</td>\n",
       "      <td>1</td>\n",
       "      <td>68000</td>\n",
       "      <td>3.9</td>\n",
       "      <td>3.0</td>\n",
       "      <td>Networking, Cyber Security, Linux</td>\n",
       "    </tr>\n",
       "    <tr>\n",
       "      <th>577</th>\n",
       "      <td>Oliver Rodriguez</td>\n",
       "      <td>Male</td>\n",
       "      <td>23</td>\n",
       "      <td>CS</td>\n",
       "      <td>University of California--Riverside</td>\n",
       "      <td>0</td>\n",
       "      <td>0</td>\n",
       "      <td>3.9</td>\n",
       "      <td>2.0</td>\n",
       "      <td>Networking, Cyber Security, Linux</td>\n",
       "    </tr>\n",
       "    <tr>\n",
       "      <th>686</th>\n",
       "      <td>Jack Garcia</td>\n",
       "      <td>Male</td>\n",
       "      <td>26</td>\n",
       "      <td>IT</td>\n",
       "      <td>University of California--Santa Cruz</td>\n",
       "      <td>1</td>\n",
       "      <td>60000</td>\n",
       "      <td>3.7</td>\n",
       "      <td>2.0</td>\n",
       "      <td>Web Development, JavaScript, React</td>\n",
       "    </tr>\n",
       "  </tbody>\n",
       "</table>\n",
       "</div>"
      ],
      "text/plain": [
       "                 name  gender  age stream  \\\n",
       "485        Emma Lopez  Female   24     ME   \n",
       "670     Emma Martinez  Female   26     EC   \n",
       "442     Emma Martinez  Female   26     EC   \n",
       "567        Liam Perez    Male   25     CS   \n",
       "523       Jack Garcia    Male   26     IT   \n",
       "559     Emma Martinez  Female   23     EC   \n",
       "621       Jack Garcia    Male   26     IT   \n",
       "192      Olivia Smith  Female   24     EC   \n",
       "577  Oliver Rodriguez    Male   23     CS   \n",
       "686       Jack Garcia    Male   26     IT   \n",
       "\n",
       "                                      college  status  salary  gpa  \\\n",
       "485   University of California--San Francisco       1   66000  3.8   \n",
       "670      University of California--Santa Cruz       1   60000  3.7   \n",
       "442                  University of Washington       1   67000  3.8   \n",
       "567                University of Pennsylvania       0       0  3.7   \n",
       "523  University of Illinois--Urbana-Champaign       1   65000  3.8   \n",
       "559      University of California--Santa Cruz       1   60000  3.7   \n",
       "621                   University of Rochester       1   62000  3.8   \n",
       "192               University of Texas--Austin       1   68000  3.9   \n",
       "577       University of California--Riverside       0       0  3.9   \n",
       "686      University of California--Santa Cruz       1   60000  3.7   \n",
       "\n",
       "     experience                               skills  \n",
       "485         3.0  Machine Learning, AI, Deep Learning  \n",
       "670         2.0    Networking, Cyber Security, Linux  \n",
       "442         3.0  Machine Learning, AI, Deep Learning  \n",
       "567         2.0           Python, SQL, Data Analysis  \n",
       "523         3.0           Python, SQL, Data Analysis  \n",
       "559         2.0  Machine Learning, AI, Deep Learning  \n",
       "621         3.0   Web Development, JavaScript, React  \n",
       "192         3.0    Networking, Cyber Security, Linux  \n",
       "577         2.0    Networking, Cyber Security, Linux  \n",
       "686         2.0   Web Development, JavaScript, React  "
      ]
     },
     "execution_count": 30,
     "metadata": {},
     "output_type": "execute_result"
    }
   ],
   "source": [
    "# Encoding Streams with their short notations\n",
    "data[\"stream\"] = data[\"stream\"].replace({\"Computer Science\":\"CS\",\"Information Technology\":\"IT\",\"Electrical Engineering\":\"EE\",\"Electronics and Communication\":\"EC\",\"Mechanical Engineering\":\"ME\"})\n",
    "data.sample(10)"
   ]
  },
  {
   "cell_type": "markdown",
   "metadata": {},
   "source": [
    "### Visual Representation of Data"
   ]
  },
  {
   "cell_type": "code",
   "execution_count": 32,
   "metadata": {},
   "outputs": [
    {
     "data": {
      "image/png": "[encoded data removed]",
      "text/plain": [
       "<Figure size 1500x800 with 6 Axes>"
      ]
     },
     "metadata": {},
     "output_type": "display_data"
    }
   ],
   "source": [
    "\n",
    "def graph1(col, ax):\n",
    "    sns.countplot(data=data, x=col, hue='status', ax=ax)\n",
    "    ax.set_xlabel(col)\n",
    "    ax.set_ylabel('Number of persons')\n",
    "    ax.set_title(f'Status vs {col}')\n",
    "    ax.tick_params(axis='x', rotation=75)\n",
    "\n",
    "columns = ['gender', 'age', 'stream', 'experience', 'gpa', 'salary']\n",
    "\n",
    "# Create subplots (adjust rows & cols based on number of plots)\n",
    "fig, axes = plt.subplots(2, 3, figsize=(15, 8))\n",
    "axes = axes.flatten() \n",
    "\n",
    "\n",
    "# Loop through columns and plot\n",
    "for i, col in enumerate(columns):\n",
    "    graph1(col, axes[i])\n",
    "\n",
    "plt.tight_layout()\n",
    "plt.savefig(\"status.png\", dpi=300)\n",
    "plt.show()\n"
   ]
  },
  {
   "cell_type": "code",
   "execution_count": 115,
   "metadata": {},
   "outputs": [
    {
     "data": {
      "image/png": "[encoded data removed]",
      "text/plain": [
       "<Figure size 1500x1000 with 6 Axes>"
      ]
     },
     "metadata": {},
     "output_type": "display_data"
    }
   ],
   "source": [
    "# columns\n",
    "column_variable = ['gender', 'age', 'gpa', 'stream', 'experience', 'status']\n",
    "\n",
    "# colors\n",
    "colors = ['cornflowerblue', 'red', 'lightgreen', 'coral', 'gold', 'purple']\n",
    "\n",
    "fig, axes = plt.subplots(2, 3, figsize=(15,10))\n",
    "\n",
    "# Flatten the axes array for easy iteration\n",
    "axes = axes.flatten()\n",
    "\n",
    "\n",
    "for i, col in enumerate(column_variable):\n",
    "    counts = data[col].value_counts()\n",
    "    chart_colors = colors[:len(counts)]\n",
    "    \n",
    "    # Create pie chart\n",
    "    axes[i].pie(counts, labels=counts.index, autopct='%1.1f%%', \n",
    "                startangle=90, colors=chart_colors, explode=[0.05] * len(counts))\n",
    "    \n",
    "    axes[i].set_title(f'{col.capitalize()} Distribution')\n",
    "\n",
    "plt.tight_layout()\n",
    "plt.show()\n"
   ]
  },
  {
   "cell_type": "markdown",
   "metadata": {},
   "source": [
    "### Exporting dataset for further use\n"
   ]
  },
  {
   "cell_type": "code",
   "execution_count": 33,
   "metadata": {},
   "outputs": [],
   "source": [
    "data.to_csv(\"cleaned_data.csv\", index=False)"
   ]
  },
  {
   "cell_type": "markdown",
   "metadata": {},
   "source": [
    "### A detailed project report (in progress ..)"
   ]
  },
  {
   "cell_type": "markdown",
   "metadata": {},
   "source": [
    "### Key Takeaways\n",
    "1. Experience plays crucial role\n",
    "2. GPA & Experience lead to better salary package\n",
    "3. Females tend to have higher placement percentage by a slight margin"
   ]
  },
  {
   "cell_type": "markdown",
   "metadata": {},
   "source": [
    "### Future Scope (continuation)\n",
    "1. Automate reporting and dashboard\n",
    "2. Conduct Predictive Modelling for placements\n",
    "3. Optimize data storage"
   ]
  },
  {
   "cell_type": "markdown",
   "metadata": {},
   "source": [
    "### Add ons\n",
    "1. Enhanced dataset with more features\n",
    "2. Career recommendation system based on profiles"
   ]
  }
 ],
 "metadata": {
  "kernelspec": {
   "display_name": "Python 3",
   "language": "python",
   "name": "python3"
  },
  "language_info": {
   "codemirror_mode": {
    "name": "ipython",
    "version": 3
   },
   "file_extension": ".py",
   "mimetype": "text/x-python",
   "name": "python",
   "nbconvert_exporter": "python",
   "pygments_lexer": "ipython3",
   "version": "3.12.0"
  }
 },
 "nbformat": 4,
 "nbformat_minor": 2
}
