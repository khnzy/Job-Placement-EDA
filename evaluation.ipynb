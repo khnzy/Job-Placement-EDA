{
 "cells": [
  {
   "cell_type": "markdown",
   "metadata": {},
   "source": [
    "# Evaluation Portfolio (Task - 3)"
   ]
  },
  {
   "cell_type": "markdown",
   "metadata": {},
   "source": [
    "## Demonstrating Data Analytics Pipeline (collection, cleaning, transformation and visualisation)\n",
    "### Submited By - Khwnasat Giri Narzary"
   ]
  },
  {
   "cell_type": "markdown",
   "metadata": {},
   "source": [
    "### Step 1 - Data Collection/Loading"
   ]
  },
  {
   "cell_type": "code",
   "execution_count": 1,
   "metadata": {},
   "outputs": [],
   "source": [
    "# Importing Necessary Libraries\n",
    "import pandas as pd\n",
    "import numpy as np\n",
    "import matplotlib.pyplot as plt\n",
    "import seaborn as sns"
   ]
  },
  {
   "cell_type": "code",
   "execution_count": 2,
   "metadata": {},
   "outputs": [
    {
     "data": {
      "text/html": [
       "<div>\n",
       "<style scoped>\n",
       "    .dataframe tbody tr th:only-of-type {\n",
       "        vertical-align: middle;\n",
       "    }\n",
       "\n",
       "    .dataframe tbody tr th {\n",
       "        vertical-align: top;\n",
       "    }\n",
       "\n",
       "    .dataframe thead th {\n",
       "        text-align: right;\n",
       "    }\n",
       "</style>\n",
       "<table border=\"1\" class=\"dataframe\">\n",
       "  <thead>\n",
       "    <tr style=\"text-align: right;\">\n",
       "      <th></th>\n",
       "      <th>id</th>\n",
       "      <th>name</th>\n",
       "      <th>gender</th>\n",
       "      <th>age</th>\n",
       "      <th>degree</th>\n",
       "      <th>stream</th>\n",
       "      <th>college_name</th>\n",
       "      <th>placement_status</th>\n",
       "      <th>salary</th>\n",
       "      <th>gpa</th>\n",
       "      <th>years_of_experience</th>\n",
       "      <th>skills</th>\n",
       "    </tr>\n",
       "  </thead>\n",
       "  <tbody>\n",
       "    <tr>\n",
       "      <th>240</th>\n",
       "      <td>241</td>\n",
       "      <td>Olivia Smith</td>\n",
       "      <td>Female</td>\n",
       "      <td>24.0</td>\n",
       "      <td>Bachelor's</td>\n",
       "      <td>Information Technology</td>\n",
       "      <td>University of Illinois--Urbana-Champaign</td>\n",
       "      <td>Placed</td>\n",
       "      <td>65000</td>\n",
       "      <td>3.8</td>\n",
       "      <td>3.0</td>\n",
       "      <td>Java, C++, Problem Solving</td>\n",
       "    </tr>\n",
       "    <tr>\n",
       "      <th>470</th>\n",
       "      <td>471</td>\n",
       "      <td>Mia Wilson</td>\n",
       "      <td>Female</td>\n",
       "      <td>23.0</td>\n",
       "      <td>Bachelor's</td>\n",
       "      <td>Electrical Engineering</td>\n",
       "      <td>University of Texas--Dallas</td>\n",
       "      <td>Placed</td>\n",
       "      <td>63000</td>\n",
       "      <td>3.6</td>\n",
       "      <td>1.0</td>\n",
       "      <td>Networking, Cyber Security, Linux</td>\n",
       "    </tr>\n",
       "    <tr>\n",
       "      <th>292</th>\n",
       "      <td>293</td>\n",
       "      <td>Chloe Hernandez</td>\n",
       "      <td>Female</td>\n",
       "      <td>26.0</td>\n",
       "      <td>Bachelor's</td>\n",
       "      <td>Electrical Engineering</td>\n",
       "      <td>University of Texas--Dallas</td>\n",
       "      <td>Placed</td>\n",
       "      <td>63000</td>\n",
       "      <td>3.6</td>\n",
       "      <td>1.0</td>\n",
       "      <td>Machine Learning, AI, Deep Learning</td>\n",
       "    </tr>\n",
       "    <tr>\n",
       "      <th>133</th>\n",
       "      <td>134</td>\n",
       "      <td>Sophia Price</td>\n",
       "      <td>Female</td>\n",
       "      <td>NaN</td>\n",
       "      <td>Bachelor's</td>\n",
       "      <td>Electronics and Communication</td>\n",
       "      <td>University of Illinois--Urbana-Champaign</td>\n",
       "      <td>Placed</td>\n",
       "      <td>65000</td>\n",
       "      <td>3.8</td>\n",
       "      <td>3.0</td>\n",
       "      <td>Python, SQL, Data Analysis</td>\n",
       "    </tr>\n",
       "    <tr>\n",
       "      <th>286</th>\n",
       "      <td>287</td>\n",
       "      <td>Emma Martinez</td>\n",
       "      <td>Female</td>\n",
       "      <td>26.0</td>\n",
       "      <td>Bachelor's</td>\n",
       "      <td>Mechanical Engineering</td>\n",
       "      <td>University of Rochester</td>\n",
       "      <td>Placed</td>\n",
       "      <td>62000</td>\n",
       "      <td>3.8</td>\n",
       "      <td>3.0</td>\n",
       "      <td>Python, SQL, Data Analysis</td>\n",
       "    </tr>\n",
       "    <tr>\n",
       "      <th>638</th>\n",
       "      <td>639</td>\n",
       "      <td>Ava Lee</td>\n",
       "      <td>Female</td>\n",
       "      <td>24.0</td>\n",
       "      <td>Bachelor's</td>\n",
       "      <td>Information Technology</td>\n",
       "      <td>University of California--Santa Cruz</td>\n",
       "      <td>Placed</td>\n",
       "      <td>60000</td>\n",
       "      <td>3.7</td>\n",
       "      <td>2.0</td>\n",
       "      <td>Java, C++, Problem Solving</td>\n",
       "    </tr>\n",
       "  </tbody>\n",
       "</table>\n",
       "</div>"
      ],
      "text/plain": [
       "      id             name  gender   age      degree  \\\n",
       "240  241     Olivia Smith  Female  24.0  Bachelor's   \n",
       "470  471       Mia Wilson  Female  23.0  Bachelor's   \n",
       "292  293  Chloe Hernandez  Female  26.0  Bachelor's   \n",
       "133  134     Sophia Price  Female   NaN  Bachelor's   \n",
       "286  287    Emma Martinez  Female  26.0  Bachelor's   \n",
       "638  639          Ava Lee  Female  24.0  Bachelor's   \n",
       "\n",
       "                            stream                              college_name  \\\n",
       "240         Information Technology  University of Illinois--Urbana-Champaign   \n",
       "470         Electrical Engineering               University of Texas--Dallas   \n",
       "292         Electrical Engineering               University of Texas--Dallas   \n",
       "133  Electronics and Communication  University of Illinois--Urbana-Champaign   \n",
       "286         Mechanical Engineering                   University of Rochester   \n",
       "638         Information Technology      University of California--Santa Cruz   \n",
       "\n",
       "    placement_status  salary  gpa  years_of_experience  \\\n",
       "240           Placed   65000  3.8                  3.0   \n",
       "470           Placed   63000  3.6                  1.0   \n",
       "292           Placed   63000  3.6                  1.0   \n",
       "133           Placed   65000  3.8                  3.0   \n",
       "286           Placed   62000  3.8                  3.0   \n",
       "638           Placed   60000  3.7                  2.0   \n",
       "\n",
       "                                  skills  \n",
       "240           Java, C++, Problem Solving  \n",
       "470    Networking, Cyber Security, Linux  \n",
       "292  Machine Learning, AI, Deep Learning  \n",
       "133           Python, SQL, Data Analysis  \n",
       "286           Python, SQL, Data Analysis  \n",
       "638           Java, C++, Problem Solving  "
      ]
     },
     "execution_count": 2,
     "metadata": {},
     "output_type": "execute_result"
    }
   ],
   "source": [
    "# Loading data from local storage\n",
    "original = pd.read_csv(\"job_placement_data.csv\")\n",
    "original.sample(6)"
   ]
  },
  {
   "cell_type": "markdown",
   "metadata": {},
   "source": [
    "#### Checking Data for inconsistency or issues"
   ]
  },
  {
   "cell_type": "code",
   "execution_count": 3,
   "metadata": {},
   "outputs": [
    {
     "data": {
      "text/plain": [
       "(700, 12)"
      ]
     },
     "execution_count": 3,
     "metadata": {},
     "output_type": "execute_result"
    }
   ],
   "source": [
    "# Making an independent copy of our dataset\n",
    "data = original.copy()\n",
    "\n",
    "# Checking shape of data (rows,columns)\n",
    "data.shape"
   ]
  },
  {
   "cell_type": "code",
   "execution_count": 4,
   "metadata": {},
   "outputs": [
    {
     "data": {
      "text/html": [
       "<div>\n",
       "<style scoped>\n",
       "    .dataframe tbody tr th:only-of-type {\n",
       "        vertical-align: middle;\n",
       "    }\n",
       "\n",
       "    .dataframe tbody tr th {\n",
       "        vertical-align: top;\n",
       "    }\n",
       "\n",
       "    .dataframe thead th {\n",
       "        text-align: right;\n",
       "    }\n",
       "</style>\n",
       "<table border=\"1\" class=\"dataframe\">\n",
       "  <thead>\n",
       "    <tr style=\"text-align: right;\">\n",
       "      <th></th>\n",
       "      <th>index</th>\n",
       "      <th>0</th>\n",
       "    </tr>\n",
       "  </thead>\n",
       "  <tbody>\n",
       "    <tr>\n",
       "      <th>0</th>\n",
       "      <td>id</td>\n",
       "      <td>int64</td>\n",
       "    </tr>\n",
       "    <tr>\n",
       "      <th>1</th>\n",
       "      <td>name</td>\n",
       "      <td>object</td>\n",
       "    </tr>\n",
       "    <tr>\n",
       "      <th>2</th>\n",
       "      <td>gender</td>\n",
       "      <td>object</td>\n",
       "    </tr>\n",
       "    <tr>\n",
       "      <th>3</th>\n",
       "      <td>age</td>\n",
       "      <td>float64</td>\n",
       "    </tr>\n",
       "    <tr>\n",
       "      <th>4</th>\n",
       "      <td>degree</td>\n",
       "      <td>object</td>\n",
       "    </tr>\n",
       "    <tr>\n",
       "      <th>5</th>\n",
       "      <td>stream</td>\n",
       "      <td>object</td>\n",
       "    </tr>\n",
       "    <tr>\n",
       "      <th>6</th>\n",
       "      <td>college_name</td>\n",
       "      <td>object</td>\n",
       "    </tr>\n",
       "    <tr>\n",
       "      <th>7</th>\n",
       "      <td>placement_status</td>\n",
       "      <td>object</td>\n",
       "    </tr>\n",
       "    <tr>\n",
       "      <th>8</th>\n",
       "      <td>salary</td>\n",
       "      <td>int64</td>\n",
       "    </tr>\n",
       "    <tr>\n",
       "      <th>9</th>\n",
       "      <td>gpa</td>\n",
       "      <td>float64</td>\n",
       "    </tr>\n",
       "    <tr>\n",
       "      <th>10</th>\n",
       "      <td>years_of_experience</td>\n",
       "      <td>float64</td>\n",
       "    </tr>\n",
       "    <tr>\n",
       "      <th>11</th>\n",
       "      <td>skills</td>\n",
       "      <td>object</td>\n",
       "    </tr>\n",
       "  </tbody>\n",
       "</table>\n",
       "</div>"
      ],
      "text/plain": [
       "                  index        0\n",
       "0                    id    int64\n",
       "1                  name   object\n",
       "2                gender   object\n",
       "3                   age  float64\n",
       "4                degree   object\n",
       "5                stream   object\n",
       "6          college_name   object\n",
       "7      placement_status   object\n",
       "8                salary    int64\n",
       "9                   gpa  float64\n",
       "10  years_of_experience  float64\n",
       "11               skills   object"
      ]
     },
     "execution_count": 4,
     "metadata": {},
     "output_type": "execute_result"
    }
   ],
   "source": [
    "# Checking datatypes \n",
    "data.dtypes.reset_index()"
   ]
  },
  {
   "cell_type": "code",
   "execution_count": 29,
   "metadata": {},
   "outputs": [
    {
     "data": {
      "text/plain": [
       "id             0\n",
       "name           0\n",
       "gender         0\n",
       "age           70\n",
       "degree         0\n",
       "stream         0\n",
       "college        0\n",
       "status         0\n",
       "salary         0\n",
       "gpa            0\n",
       "experience     0\n",
       "skills         0\n",
       "dtype: int64"
      ]
     },
     "execution_count": 29,
     "metadata": {},
     "output_type": "execute_result"
    }
   ],
   "source": [
    "# Checking for Null/Missing Values\n",
    "data.isnull().sum()"
   ]
  },
  {
   "cell_type": "markdown",
   "metadata": {},
   "source": [
    "#### Found missing value in \"years_of_experience\" and \"Age\""
   ]
  },
  {
   "cell_type": "code",
   "execution_count": null,
   "metadata": {},
   "outputs": [
    {
     "data": {
      "text/plain": [
       "(699, 12)"
      ]
     },
     "execution_count": 30,
     "metadata": {},
     "output_type": "execute_result"
    }
   ],
   "source": [
    "# Total Columns in dataset\n",
    "data.columns\n"
   ]
  },
  {
   "cell_type": "code",
   "execution_count": 7,
   "metadata": {},
   "outputs": [
    {
     "name": "stdout",
     "output_type": "stream",
     "text": [
      "==================== S T A R T =======================\n",
      "gender\n",
      "Female    366\n",
      "Male      334\n",
      "Name: count, dtype: int64\n",
      "======================================================\n",
      "age\n",
      "24.0    187\n",
      "23.0    180\n",
      "26.0    169\n",
      "25.0     94\n",
      "Name: count, dtype: int64\n",
      "======================================================\n",
      "degree\n",
      "Bachelor's    700\n",
      "Name: count, dtype: int64\n",
      "======================================================\n",
      "stream\n",
      "Computer Science                 214\n",
      "Information Technology           152\n",
      "Electrical Engineering           112\n",
      "Mechanical Engineering           111\n",
      "Electronics and Communication    111\n",
      "Name: count, dtype: int64\n",
      "======================================================\n",
      "college_name\n",
      "University of Michigan--Ann Arbor            43\n",
      "University of California--Berkeley           43\n",
      "University of Colorado--Boulder              43\n",
      "University of Illinois--Urbana-Champaign     43\n",
      "University of Virginia                       43\n",
      "University of North Carolina--Chapel Hill    42\n",
      "University of Maryland--College Park         42\n",
      "University of California--Santa Cruz         42\n",
      "University of Pennsylvania                   40\n",
      "University of Washington                     40\n",
      "University of California--Riverside          34\n",
      "University of California--San Francisco      34\n",
      "University of Rochester                      34\n",
      "University of Delaware                       34\n",
      "University of Texas--Dallas                  34\n",
      "University of Connecticut                    33\n",
      "University of California--Los Angeles        23\n",
      "University of Texas--Austin                  18\n",
      "University of California--San Diego          10\n",
      "University of California--Irvine              1\n",
      "University of Pittsburgh                      1\n",
      "Georgetown University                         1\n",
      "Rice University                               1\n",
      "Boston College                                1\n",
      "University of Georgia                         1\n",
      "University of Notre Dame                      1\n",
      "University of Iowa                            1\n",
      "Harvard University                            1\n",
      "University of California--Davis               1\n",
      "University of Minnesota--Twin Cities          1\n",
      "University of Florida                         1\n",
      "University of Southern California             1\n",
      "Massachusetts Institute of Technology         1\n",
      "University of Wisconsin--Madison              1\n",
      "Johns Hopkins University                      1\n",
      "Duke University                               1\n",
      "Northwestern University                       1\n",
      "University of Chicago                         1\n",
      "California Institute of Technology            1\n",
      "Columbia University                           1\n",
      "Princeton University                          1\n",
      "Yale University                               1\n",
      "Stanford University                           1\n",
      "University of California--Santa Barbara       1\n",
      "Name: count, dtype: int64\n",
      "======================================================\n",
      "placement_status\n",
      "Placed        570\n",
      "Not Placed    130\n",
      "Name: count, dtype: int64\n",
      "======================================================\n",
      "years_of_experience\n",
      "3.0    285\n",
      "2.0    253\n",
      "1.0    161\n",
      "Name: count, dtype: int64\n",
      "======================================================\n"
     ]
    }
   ],
   "source": [
    "# Displaying unique values in each necessary columns\n",
    "\n",
    "columns = ['gender', 'age', 'degree', 'stream', 'college_name','placement_status','years_of_experience']\n",
    "print(\"==================== S T A R T =======================\")\n",
    "\n",
    "for i in columns:\n",
    "    print(data[i].value_counts())\n",
    "    print(\"======================================================\")"
   ]
  },
  {
   "cell_type": "code",
   "execution_count": 8,
   "metadata": {},
   "outputs": [
    {
     "data": {
      "text/plain": [
       "0"
      ]
     },
     "execution_count": 8,
     "metadata": {},
     "output_type": "execute_result"
    }
   ],
   "source": [
    "# checking for duplicate values\n",
    "data.duplicated().sum()"
   ]
  },
  {
   "cell_type": "markdown",
   "metadata": {},
   "source": [
    "### Findings/suggestions for next step: \n",
    "1. Found missing values in (Age:70, years_of_experience:1)\n",
    "2. Datatypes can be changed \n",
    "3. Columns can be renamed\n",
    "4. Skills column can be normalised"
   ]
  },
  {
   "cell_type": "markdown",
   "metadata": {},
   "source": [
    "### Step 2 & 3 - Data Cleaning and Transformation"
   ]
  },
  {
   "cell_type": "code",
   "execution_count": 9,
   "metadata": {},
   "outputs": [
    {
     "data": {
      "text/plain": [
       "Index(['id', 'name', 'gender', 'age', 'degree', 'stream', 'college', 'status',\n",
       "       'salary', 'gpa', 'experience', 'skills'],\n",
       "      dtype='object')"
      ]
     },
     "execution_count": 9,
     "metadata": {},
     "output_type": "execute_result"
    }
   ],
   "source": [
    "# Renaming columns for easier use \n",
    "data.rename(columns={\"years_of_experience\":\"experience\"}, inplace=True)\n",
    "data.rename(columns={\"college_name\":\"college\"}, inplace=True)\n",
    "data.rename(columns={\"placement_status\":\"status\"},inplace=True)\n",
    "data.columns"
   ]
  },
  {
   "cell_type": "code",
   "execution_count": 10,
   "metadata": {},
   "outputs": [
    {
     "name": "stdout",
     "output_type": "stream",
     "text": [
      "<class 'pandas.core.frame.DataFrame'>\n",
      "RangeIndex: 700 entries, 0 to 699\n",
      "Data columns (total 12 columns):\n",
      " #   Column      Non-Null Count  Dtype  \n",
      "---  ------      --------------  -----  \n",
      " 0   id          700 non-null    int64  \n",
      " 1   name        700 non-null    object \n",
      " 2   gender      700 non-null    object \n",
      " 3   age         630 non-null    float64\n",
      " 4   degree      700 non-null    object \n",
      " 5   stream      700 non-null    object \n",
      " 6   college     700 non-null    object \n",
      " 7   status      700 non-null    object \n",
      " 8   salary      700 non-null    int64  \n",
      " 9   gpa         700 non-null    float64\n",
      " 10  experience  699 non-null    float64\n",
      " 11  skills      700 non-null    object \n",
      "dtypes: float64(3), int64(2), object(7)\n",
      "memory usage: 65.8+ KB\n"
     ]
    }
   ],
   "source": [
    "data.info()"
   ]
  },
  {
   "cell_type": "code",
   "execution_count": 11,
   "metadata": {},
   "outputs": [],
   "source": [
    "# Converting datatypes \n",
    "# 1. All object to string\n",
    "\n",
    "for i in data:\n",
    "    if data[i].dtypes == \"object\":\n",
    "        data[i] = data[i].astype(\"string\")\n",
    "\n",
    "\n",
    "# 2. Age to int\n",
    "data[\"age\"] = data[\"age\"].astype(\"Int64\")\n"
   ]
  },
  {
   "cell_type": "code",
   "execution_count": 12,
   "metadata": {},
   "outputs": [
    {
     "name": "stdout",
     "output_type": "stream",
     "text": [
      "<class 'pandas.core.frame.DataFrame'>\n",
      "RangeIndex: 700 entries, 0 to 699\n",
      "Data columns (total 12 columns):\n",
      " #   Column      Non-Null Count  Dtype  \n",
      "---  ------      --------------  -----  \n",
      " 0   id          700 non-null    int64  \n",
      " 1   name        700 non-null    string \n",
      " 2   gender      700 non-null    string \n",
      " 3   age         630 non-null    Int64  \n",
      " 4   degree      700 non-null    string \n",
      " 5   stream      700 non-null    string \n",
      " 6   college     700 non-null    string \n",
      " 7   status      700 non-null    string \n",
      " 8   salary      700 non-null    int64  \n",
      " 9   gpa         700 non-null    float64\n",
      " 10  experience  699 non-null    float64\n",
      " 11  skills      700 non-null    string \n",
      "dtypes: Int64(1), float64(2), int64(2), string(7)\n",
      "memory usage: 66.4 KB\n"
     ]
    }
   ],
   "source": [
    "data.info()"
   ]
  },
  {
   "cell_type": "code",
   "execution_count": 13,
   "metadata": {},
   "outputs": [
    {
     "name": "stdout",
     "output_type": "stream",
     "text": [
      "<class 'pandas.core.frame.DataFrame'>\n",
      "Index: 699 entries, 0 to 699\n",
      "Data columns (total 12 columns):\n",
      " #   Column      Non-Null Count  Dtype  \n",
      "---  ------      --------------  -----  \n",
      " 0   id          699 non-null    int64  \n",
      " 1   name        699 non-null    string \n",
      " 2   gender      699 non-null    string \n",
      " 3   age         629 non-null    Int64  \n",
      " 4   degree      699 non-null    string \n",
      " 5   stream      699 non-null    string \n",
      " 6   college     699 non-null    string \n",
      " 7   status      699 non-null    string \n",
      " 8   salary      699 non-null    int64  \n",
      " 9   gpa         699 non-null    float64\n",
      " 10  experience  699 non-null    float64\n",
      " 11  skills      699 non-null    string \n",
      "dtypes: Int64(1), float64(2), int64(2), string(7)\n",
      "memory usage: 71.7 KB\n"
     ]
    }
   ],
   "source": [
    "# Option 1 - Removing Row with Null value in \"experience\" column\n",
    "data = data.dropna(subset=\"experience\")\n",
    "data.info()"
   ]
  },
  {
   "cell_type": "code",
   "execution_count": 14,
   "metadata": {},
   "outputs": [
    {
     "data": {
      "text/html": [
       "<div>\n",
       "<style scoped>\n",
       "    .dataframe tbody tr th:only-of-type {\n",
       "        vertical-align: middle;\n",
       "    }\n",
       "\n",
       "    .dataframe tbody tr th {\n",
       "        vertical-align: top;\n",
       "    }\n",
       "\n",
       "    .dataframe thead th {\n",
       "        text-align: right;\n",
       "    }\n",
       "</style>\n",
       "<table border=\"1\" class=\"dataframe\">\n",
       "  <thead>\n",
       "    <tr style=\"text-align: right;\">\n",
       "      <th></th>\n",
       "      <th>id</th>\n",
       "      <th>age</th>\n",
       "      <th>salary</th>\n",
       "      <th>gpa</th>\n",
       "      <th>experience</th>\n",
       "    </tr>\n",
       "  </thead>\n",
       "  <tbody>\n",
       "    <tr>\n",
       "      <th>count</th>\n",
       "      <td>699.000000</td>\n",
       "      <td>629.0</td>\n",
       "      <td>699.000000</td>\n",
       "      <td>699.000000</td>\n",
       "      <td>699.000000</td>\n",
       "    </tr>\n",
       "    <tr>\n",
       "      <th>mean</th>\n",
       "      <td>350.221745</td>\n",
       "      <td>24.400636</td>\n",
       "      <td>52463.519313</td>\n",
       "      <td>3.750501</td>\n",
       "      <td>2.177396</td>\n",
       "    </tr>\n",
       "    <tr>\n",
       "      <th>std</th>\n",
       "      <td>202.227533</td>\n",
       "      <td>1.162744</td>\n",
       "      <td>25176.734034</td>\n",
       "      <td>0.121283</td>\n",
       "      <td>0.779393</td>\n",
       "    </tr>\n",
       "    <tr>\n",
       "      <th>min</th>\n",
       "      <td>1.000000</td>\n",
       "      <td>23.0</td>\n",
       "      <td>0.000000</td>\n",
       "      <td>3.400000</td>\n",
       "      <td>1.000000</td>\n",
       "    </tr>\n",
       "    <tr>\n",
       "      <th>25%</th>\n",
       "      <td>175.500000</td>\n",
       "      <td>23.0</td>\n",
       "      <td>61000.000000</td>\n",
       "      <td>3.700000</td>\n",
       "      <td>2.000000</td>\n",
       "    </tr>\n",
       "    <tr>\n",
       "      <th>50%</th>\n",
       "      <td>350.000000</td>\n",
       "      <td>24.0</td>\n",
       "      <td>64000.000000</td>\n",
       "      <td>3.800000</td>\n",
       "      <td>2.000000</td>\n",
       "    </tr>\n",
       "    <tr>\n",
       "      <th>75%</th>\n",
       "      <td>524.500000</td>\n",
       "      <td>26.0</td>\n",
       "      <td>66000.000000</td>\n",
       "      <td>3.900000</td>\n",
       "      <td>3.000000</td>\n",
       "    </tr>\n",
       "    <tr>\n",
       "      <th>max</th>\n",
       "      <td>700.000000</td>\n",
       "      <td>26.0</td>\n",
       "      <td>68000.000000</td>\n",
       "      <td>3.900000</td>\n",
       "      <td>3.000000</td>\n",
       "    </tr>\n",
       "  </tbody>\n",
       "</table>\n",
       "</div>"
      ],
      "text/plain": [
       "               id        age        salary         gpa  experience\n",
       "count  699.000000      629.0    699.000000  699.000000  699.000000\n",
       "mean   350.221745  24.400636  52463.519313    3.750501    2.177396\n",
       "std    202.227533   1.162744  25176.734034    0.121283    0.779393\n",
       "min      1.000000       23.0      0.000000    3.400000    1.000000\n",
       "25%    175.500000       23.0  61000.000000    3.700000    2.000000\n",
       "50%    350.000000       24.0  64000.000000    3.800000    2.000000\n",
       "75%    524.500000       26.0  66000.000000    3.900000    3.000000\n",
       "max    700.000000       26.0  68000.000000    3.900000    3.000000"
      ]
     },
     "execution_count": 14,
     "metadata": {},
     "output_type": "execute_result"
    }
   ],
   "source": [
    "# Option 2 - Replacing with Mean, Median or Mode\n",
    "data.describe()"
   ]
  },
  {
   "cell_type": "code",
   "execution_count": 15,
   "metadata": {},
   "outputs": [
    {
     "data": {
      "text/plain": [
       "age\n",
       "24    186\n",
       "23    180\n",
       "26    169\n",
       "25     94\n",
       "Name: count, dtype: Int64"
      ]
     },
     "execution_count": 15,
     "metadata": {},
     "output_type": "execute_result"
    }
   ],
   "source": [
    "# Checking total count of each age\n",
    "data[\"age\"].value_counts()"
   ]
  },
  {
   "cell_type": "code",
   "execution_count": 16,
   "metadata": {},
   "outputs": [],
   "source": [
    "# New dataframe with only null values\n",
    "null_data = data[data[\"age\"].isnull()]"
   ]
  },
  {
   "cell_type": "code",
   "execution_count": 17,
   "metadata": {},
   "outputs": [
    {
     "data": {
      "text/plain": [
       "experience\n",
       "2.0    30\n",
       "3.0    22\n",
       "1.0    18\n",
       "Name: count, dtype: int64"
      ]
     },
     "execution_count": 17,
     "metadata": {},
     "output_type": "execute_result"
    }
   ],
   "source": [
    "# data distribution of age based on experience\n",
    "null_data[\"experience\"].value_counts()"
   ]
  },
  {
   "cell_type": "code",
   "execution_count": 18,
   "metadata": {},
   "outputs": [],
   "source": [
    "g = data.groupby(\"age\")[\"experience\"].value_counts()"
   ]
  },
  {
   "cell_type": "code",
   "execution_count": null,
   "metadata": {},
   "outputs": [],
   "source": []
  },
  {
   "cell_type": "code",
   "execution_count": null,
   "metadata": {},
   "outputs": [],
   "source": []
  },
  {
   "cell_type": "code",
   "execution_count": null,
   "metadata": {},
   "outputs": [],
   "source": []
  },
  {
   "cell_type": "code",
   "execution_count": null,
   "metadata": {},
   "outputs": [],
   "source": []
  },
  {
   "cell_type": "code",
   "execution_count": null,
   "metadata": {},
   "outputs": [],
   "source": []
  }
 ],
 "metadata": {
  "kernelspec": {
   "display_name": "Python 3",
   "language": "python",
   "name": "python3"
  },
  "language_info": {
   "codemirror_mode": {
    "name": "ipython",
    "version": 3
   },
   "file_extension": ".py",
   "mimetype": "text/x-python",
   "name": "python",
   "nbconvert_exporter": "python",
   "pygments_lexer": "ipython3",
   "version": "3.12.0"
  }
 },
 "nbformat": 4,
 "nbformat_minor": 2
}
